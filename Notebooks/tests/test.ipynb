{
 "cells": [
  {
   "cell_type": "markdown",
   "metadata": {},
   "source": [
    "# P4"
   ]
  },
  {
   "cell_type": "markdown",
   "metadata": {},
   "source": [
    "## Récupération des données"
   ]
  },
  {
   "cell_type": "code",
   "execution_count": 1,
   "metadata": {
    "scrolled": true
   },
   "outputs": [
    {
     "name": "stdout",
     "output_type": "stream",
     "text": [
      "(433298, 9)\n",
      "Index(['MONTH', 'DAY_OF_MONTH', 'DAY_OF_WEEK', 'UNIQUE_CARRIER',\n",
      "       'ORIGIN_AIRPORT_ID', 'ORIGIN_CITY_NAME', 'ARR_DELAY', 'HDAYS',\n",
      "       'DEP_HOUR'],\n",
      "      dtype='object')\n"
     ]
    }
   ],
   "source": [
    "import pandas as pd\n",
    "import numpy as np\n",
    "import time\n",
    "import os\n",
    "\n",
    "# Option pour ne pas tout charger\n",
    "ALLFILES = False\n",
    "CT_DIR_DATA = 'C:\\Work\\OpenClassrooms\\data\\P4/'\n",
    "\n",
    "filename = '2016_'\n",
    "# Récupération du 1er fichier\n",
    "dataraw = pd.read_csv(CT_DIR_DATA + filename + '01_ready.csv', sep=\"\\t\", encoding='utf-8')\n",
    "print(dataraw.shape)\n",
    "print(dataraw.columns)\n",
    "\n",
    "if ALLFILES:\n",
    "    # Concaténation de toutes les données\n",
    "    for i in range(2, 13):\n",
    "        n = filename + '%0*d' % (2, i) + '_ready.csv'\n",
    "        #print('reading', n, '...')\n",
    "        f = pd.read_csv(n, sep=\"\\t\", encoding='utf-8')\n",
    "        print(n, f.shape)\n",
    "        print(f.columns)\n",
    "        dataraw = dataraw.append(f)\n",
    "        print(dataraw.shape)\n",
    "else:\n",
    "    dataraw = dataraw.sample(1000)"
   ]
  },
  {
   "cell_type": "code",
   "execution_count": null,
   "metadata": {
    "collapsed": true
   },
   "outputs": [],
   "source": []
  },
  {
   "cell_type": "code",
   "execution_count": 2,
   "metadata": {
    "collapsed": true
   },
   "outputs": [],
   "source": [
    "# Méthodes d'import export\n",
    "import pickle\n",
    "from sklearn.externals import joblib\n",
    "CT_DIR = '../flightdelay/save/'\n",
    "\n",
    "def save_obj(obj, name):\n",
    "    fn = CT_DIR + name + '.pkl'\n",
    "    try:\n",
    "        os.remove(fn)\n",
    "    except OSError:\n",
    "        pass\n",
    "    with open(fn, 'wb+') as f:\n",
    "        pickle.dump(obj, f, pickle.HIGHEST_PROTOCOL)\n",
    "    print(fn, 'saved')\n",
    "\n",
    "def load_obj(name):\n",
    "    with open(CT_DIR + name + '.pkl', 'rb') as f:\n",
    "        return pickle.load(f)\n",
    "    \n",
    "def save_sklearn_obj(obj, name):\n",
    "    fn = CT_DIR + name + '.pkl'\n",
    "    try:\n",
    "        os.remove(fn)\n",
    "    except OSError:\n",
    "        pass\n",
    "    joblib.dump(obj, fn)\n",
    "    print(fn, 'saved')\n",
    "\n",
    "def load_sklearn_obj(name):\n",
    "    return joblib.load(CT_DIR + name + '.pkl')"
   ]
  },
  {
   "cell_type": "markdown",
   "metadata": {},
   "source": [
    "## Préparation au calcul"
   ]
  },
  {
   "cell_type": "code",
   "execution_count": 3,
   "metadata": {
    "collapsed": true
   },
   "outputs": [],
   "source": [
    "# Conversion pour les noms des colonnes\n",
    "dataraw[['ORIGIN_AIRPORT_ID']] = dataraw[['ORIGIN_AIRPORT_ID']].astype(np.int64)"
   ]
  },
  {
   "cell_type": "code",
   "execution_count": 4,
   "metadata": {
    "collapsed": true,
    "scrolled": true
   },
   "outputs": [],
   "source": [
    "from sklearn.linear_model import SGDRegressor\n",
    "from sklearn.model_selection import GridSearchCV, cross_val_score\n",
    "from sklearn.metrics import mean_absolute_error\n",
    "from sklearn.metrics import mean_squared_error\n",
    "\n",
    "def TestModel(p_df, c):\n",
    "\n",
    "    # On fait un choix de colonnes restreint en pensant à ce que l'utilisateur pourra renseigner dans la page web\n",
    "    # Les numériques\n",
    "    scalingDF = p_df[['HDAYS']].astype('float')\n",
    "    # Les catégories\n",
    "    categDF = p_df[['MONTH', 'ORIGIN_AIRPORT_ID', 'DEP_HOUR', 'DAY_OF_WEEK']]\n",
    "    \n",
    "    y_final = p_df['ARR_DELAY'].values\n",
    "    y_final.mean()        \n",
    "    \n",
    "    # Binarisation en dummies pour garder la maitrise des noms des colonnes\n",
    "    categDF_encoded = pd.get_dummies(categDF.astype(np.str))\n",
    "\n",
    "    # Concaténation\n",
    "    x_final = pd.concat([scalingDF, categDF_encoded], axis=1)\n",
    "\n",
    "    # Sauvegarde de la liste des colonnes pour le web\n",
    "    x_save = x_final[x_final.HDAYS==-1]\n",
    "    save_obj(x_save, 'model_columns_'+c)\n",
    "\n",
    "    print('Done!')"
   ]
  },
  {
   "cell_type": "markdown",
   "metadata": {},
   "source": [
    "## GO"
   ]
  },
  {
   "cell_type": "code",
   "execution_count": 5,
   "metadata": {
    "scrolled": true
   },
   "outputs": [
    {
     "name": "stdout",
     "output_type": "stream",
     "text": [
      "AA\n",
      "(172, 9)\n",
      "../flightdelay/save/test_AA.pkl saved\n",
      "Done!\n"
     ]
    }
   ],
   "source": [
    "lst_carriers = list(sorted(set(dataraw['UNIQUE_CARRIER'])))\n",
    "for c in lst_carriers:\n",
    "    print(c)\n",
    "    df = dataraw[dataraw.UNIQUE_CARRIER == c]\n",
    "    print (df.shape)\n",
    "    #df.to_csv('C:\\Work\\OpenClassrooms\\data\\P4/2016_' + c + '.csv', sep=\"\\t\", encoding='utf-8', index=False)\n",
    "    \n",
    "    TestModel(df, c)\n",
    "    break\n",
    "    "
   ]
  },
  {
   "cell_type": "code",
   "execution_count": null,
   "metadata": {
    "collapsed": true
   },
   "outputs": [],
   "source": []
  }
 ],
 "metadata": {
  "kernelspec": {
   "display_name": "Python 3",
   "language": "python",
   "name": "python3"
  },
  "language_info": {
   "codemirror_mode": {
    "name": "ipython",
    "version": 3
   },
   "file_extension": ".py",
   "mimetype": "text/x-python",
   "name": "python",
   "nbconvert_exporter": "python",
   "pygments_lexer": "ipython3",
   "version": "3.6.3"
  }
 },
 "nbformat": 4,
 "nbformat_minor": 2
}
