{
 "cells": [
  {
   "cell_type": "markdown",
   "metadata": {},
   "source": [
    "# P6 - Catégorisez automatiquement des questions"
   ]
  },
  {
   "cell_type": "markdown",
   "metadata": {},
   "source": [
    "## Librairies et méthodes d'importation"
   ]
  },
  {
   "cell_type": "code",
   "execution_count": 1,
   "metadata": {},
   "outputs": [],
   "source": [
    "# Librairies classiques\n",
    "import pandas as pd\n",
    "import numpy as np\n",
    "import datetime\n",
    "from time import time\n",
    "\n",
    "# Librairies de traitement de texte\n",
    "import nltk\n",
    "from nltk.corpus import stopwords\n",
    "from sklearn import preprocessing\n",
    "from sklearn.feature_extraction.text import CountVectorizer\n",
    "from sklearn.feature_extraction.text import TfidfVectorizer\n",
    "from sklearn.feature_extraction.text import TfidfTransformer\n",
    "from sklearn.model_selection import train_test_split, cross_val_score, GridSearchCV\n",
    "from sklearn.metrics import accuracy_score\n",
    "\n",
    "from sklearn.pipeline import Pipeline\n",
    "from sklearn.multiclass import OneVsRestClassifier\n",
    "from sklearn.svm import LinearSVC\n",
    "from sklearn.ensemble import RandomForestClassifier\n",
    "\n",
    "import warnings\n",
    "warnings.filterwarnings(\"ignore\")\n",
    "\n",
    "from p6_functions import *\n",
    "CT_DIR_SAVE = '../autotag/save/'"
   ]
  },
  {
   "cell_type": "markdown",
   "metadata": {},
   "source": [
    "## Récupération des données"
   ]
  },
  {
   "cell_type": "code",
   "execution_count": 2,
   "metadata": {},
   "outputs": [
    {
     "name": "stdout",
     "output_type": "stream",
     "text": [
      "(152855, 2)\n",
      "(38214, 2)\n"
     ]
    },
    {
     "data": {
      "text/html": [
       "<div>\n",
       "<style scoped>\n",
       "    .dataframe tbody tr th:only-of-type {\n",
       "        vertical-align: middle;\n",
       "    }\n",
       "\n",
       "    .dataframe tbody tr th {\n",
       "        vertical-align: top;\n",
       "    }\n",
       "\n",
       "    .dataframe thead th {\n",
       "        text-align: right;\n",
       "    }\n",
       "</style>\n",
       "<table border=\"1\" class=\"dataframe\">\n",
       "  <thead>\n",
       "    <tr style=\"text-align: right;\">\n",
       "      <th></th>\n",
       "      <th>TextCleaned</th>\n",
       "      <th>TagsCleaned</th>\n",
       "    </tr>\n",
       "  </thead>\n",
       "  <tbody>\n",
       "    <tr>\n",
       "      <th>0</th>\n",
       "      <td>appli opac form use decim doubl valu want use ...</td>\n",
       "      <td>c# winforms type-conversion decimal opacity</td>\n",
       "    </tr>\n",
       "    <tr>\n",
       "      <th>1</th>\n",
       "      <td>percentag width child element absolut posit pa...</td>\n",
       "      <td>html css css3 internet-explorer-7</td>\n",
       "    </tr>\n",
       "    <tr>\n",
       "      <th>2</th>\n",
       "      <td>calcul someon age c# given datetim repres pers...</td>\n",
       "      <td>c# .net datetime</td>\n",
       "    </tr>\n",
       "    <tr>\n",
       "      <th>3</th>\n",
       "      <td>calcul rel time c# given specif datetim valu d...</td>\n",
       "      <td>c# datetime time datediff relative-time-span</td>\n",
       "    </tr>\n",
       "    <tr>\n",
       "      <th>4</th>\n",
       "      <td>determin user timezon standard way web server ...</td>\n",
       "      <td>javascript html browser timezone timezoneoffset</td>\n",
       "    </tr>\n",
       "  </tbody>\n",
       "</table>\n",
       "</div>"
      ],
      "text/plain": [
       "                                         TextCleaned  \\\n",
       "0  appli opac form use decim doubl valu want use ...   \n",
       "1  percentag width child element absolut posit pa...   \n",
       "2  calcul someon age c# given datetim repres pers...   \n",
       "3  calcul rel time c# given specif datetim valu d...   \n",
       "4  determin user timezon standard way web server ...   \n",
       "\n",
       "                                       TagsCleaned  \n",
       "0      c# winforms type-conversion decimal opacity  \n",
       "1                html css css3 internet-explorer-7  \n",
       "2                                 c# .net datetime  \n",
       "3     c# datetime time datediff relative-time-span  \n",
       "4  javascript html browser timezone timezoneoffset  "
      ]
     },
     "execution_count": 2,
     "metadata": {},
     "output_type": "execute_result"
    }
   ],
   "source": [
    "df_train = pd.read_csv(CT_DIR_SAVE + 'df_train.csv')\n",
    "df_test = pd.read_csv(CT_DIR_SAVE + 'df_test.csv')\n",
    "print(df_train.shape)\n",
    "print(df_test.shape)\n",
    "df_train.head()"
   ]
  },
  {
   "cell_type": "code",
   "execution_count": 3,
   "metadata": {},
   "outputs": [
    {
     "name": "stdout",
     "output_type": "stream",
     "text": [
      "(100000, 2)\n",
      "(10000, 2)\n"
     ]
    }
   ],
   "source": [
    "\n",
    "# Samples pour les tests\n",
    "if True:\n",
    "    df_train = df_train[:100000]\n",
    "    df_test = df_test[:10000]\n",
    "    print(df_train.shape)\n",
    "    print(df_test.shape)"
   ]
  },
  {
   "cell_type": "markdown",
   "metadata": {},
   "source": [
    "## Choix d'un nombre de tags"
   ]
  },
  {
   "cell_type": "code",
   "execution_count": 4,
   "metadata": {},
   "outputs": [
    {
     "name": "stdout",
     "output_type": "stream",
     "text": [
      "../autotag/save/top_tags loaded\n"
     ]
    }
   ],
   "source": [
    "max_features_tags = 400\n",
    "\n",
    "# Liste de tous les tags\n",
    "top_tags = load_obj(CT_DIR_SAVE + 'top_tags')\n",
    "\n",
    "# Liste des tags\n",
    "max_tags = []\n",
    "for i in range(0, max_features_tags):\n",
    "    max_tags.append(top_tags[i][0])\n",
    "\n",
    "# Méthode pour enlever les tags hors de la liste officielle de classification\n",
    "def cleanTags(p_val):\n",
    "    ret = []\n",
    "    for word in str(p_val).split():\n",
    "        if word in max_tags:\n",
    "            ret.append(word)\n",
    "    return \" \".join(ret)"
   ]
  },
  {
   "cell_type": "code",
   "execution_count": 5,
   "metadata": {},
   "outputs": [
    {
     "name": "stdout",
     "output_type": "stream",
     "text": [
      "[['c#', 26446], ['.net', 16452], ['java', 13844], ['asp.net', 12347], ['javascript', 9584], ['c++', 9410], ['php', 8607], ['python', 6953], ['sql', 6542], ['sql-server', 5972]]\n"
     ]
    }
   ],
   "source": [
    "print(top_tags[:10])"
   ]
  },
  {
   "cell_type": "markdown",
   "metadata": {},
   "source": [
    "## Nettoyage"
   ]
  },
  {
   "cell_type": "code",
   "execution_count": 6,
   "metadata": {},
   "outputs": [],
   "source": [
    "df_train['Tags'] = df_train['TagsCleaned']\n",
    "df_test['Tags'] = df_test['TagsCleaned']"
   ]
  },
  {
   "cell_type": "code",
   "execution_count": 7,
   "metadata": {},
   "outputs": [],
   "source": [
    "# On enlève tous les tags qui ne font pas parti du top choisi\n",
    "df_train['TagsCleaned'] = df_train['TagsCleaned'].apply(cleanTags)\n",
    "df_test['TagsCleaned'] = df_test['TagsCleaned'].apply(cleanTags)"
   ]
  },
  {
   "cell_type": "code",
   "execution_count": 8,
   "metadata": {},
   "outputs": [
    {
     "name": "stdout",
     "output_type": "stream",
     "text": [
      "(95081, 3)\n"
     ]
    }
   ],
   "source": [
    "# On enlève de l'entrainement les données qui se retrouvent sans target\n",
    "df_train = df_train[df_train['TagsCleaned'].str.len()>0]\n",
    "print(df_train.shape)"
   ]
  },
  {
   "cell_type": "code",
   "execution_count": 9,
   "metadata": {
    "scrolled": true
   },
   "outputs": [
    {
     "data": {
      "text/html": [
       "<div>\n",
       "<style scoped>\n",
       "    .dataframe tbody tr th:only-of-type {\n",
       "        vertical-align: middle;\n",
       "    }\n",
       "\n",
       "    .dataframe tbody tr th {\n",
       "        vertical-align: top;\n",
       "    }\n",
       "\n",
       "    .dataframe thead th {\n",
       "        text-align: right;\n",
       "    }\n",
       "</style>\n",
       "<table border=\"1\" class=\"dataframe\">\n",
       "  <thead>\n",
       "    <tr style=\"text-align: right;\">\n",
       "      <th></th>\n",
       "      <th>TextCleaned</th>\n",
       "      <th>TagsCleaned</th>\n",
       "      <th>Tags</th>\n",
       "    </tr>\n",
       "  </thead>\n",
       "  <tbody>\n",
       "    <tr>\n",
       "      <th>0</th>\n",
       "      <td>appli opac form use decim doubl valu want use ...</td>\n",
       "      <td>c# winforms</td>\n",
       "      <td>c# winforms type-conversion decimal opacity</td>\n",
       "    </tr>\n",
       "    <tr>\n",
       "      <th>1</th>\n",
       "      <td>percentag width child element absolut posit pa...</td>\n",
       "      <td>html css internet-explorer-7</td>\n",
       "      <td>html css css3 internet-explorer-7</td>\n",
       "    </tr>\n",
       "    <tr>\n",
       "      <th>2</th>\n",
       "      <td>calcul someon age c# given datetim repres pers...</td>\n",
       "      <td>c# .net datetime</td>\n",
       "      <td>c# .net datetime</td>\n",
       "    </tr>\n",
       "    <tr>\n",
       "      <th>3</th>\n",
       "      <td>calcul rel time c# given specif datetim valu d...</td>\n",
       "      <td>c# datetime time</td>\n",
       "      <td>c# datetime time datediff relative-time-span</td>\n",
       "    </tr>\n",
       "    <tr>\n",
       "      <th>4</th>\n",
       "      <td>determin user timezon standard way web server ...</td>\n",
       "      <td>javascript html browser</td>\n",
       "      <td>javascript html browser timezone timezoneoffset</td>\n",
       "    </tr>\n",
       "  </tbody>\n",
       "</table>\n",
       "</div>"
      ],
      "text/plain": [
       "                                         TextCleaned  \\\n",
       "0  appli opac form use decim doubl valu want use ...   \n",
       "1  percentag width child element absolut posit pa...   \n",
       "2  calcul someon age c# given datetim repres pers...   \n",
       "3  calcul rel time c# given specif datetim valu d...   \n",
       "4  determin user timezon standard way web server ...   \n",
       "\n",
       "                    TagsCleaned  \\\n",
       "0                   c# winforms   \n",
       "1  html css internet-explorer-7   \n",
       "2              c# .net datetime   \n",
       "3              c# datetime time   \n",
       "4       javascript html browser   \n",
       "\n",
       "                                              Tags  \n",
       "0      c# winforms type-conversion decimal opacity  \n",
       "1                html css css3 internet-explorer-7  \n",
       "2                                 c# .net datetime  \n",
       "3     c# datetime time datediff relative-time-span  \n",
       "4  javascript html browser timezone timezoneoffset  "
      ]
     },
     "execution_count": 9,
     "metadata": {},
     "output_type": "execute_result"
    }
   ],
   "source": [
    "df_train.head()"
   ]
  },
  {
   "cell_type": "code",
   "execution_count": 10,
   "metadata": {
    "scrolled": true
   },
   "outputs": [
    {
     "data": {
      "text/html": [
       "<div>\n",
       "<style scoped>\n",
       "    .dataframe tbody tr th:only-of-type {\n",
       "        vertical-align: middle;\n",
       "    }\n",
       "\n",
       "    .dataframe tbody tr th {\n",
       "        vertical-align: top;\n",
       "    }\n",
       "\n",
       "    .dataframe thead th {\n",
       "        text-align: right;\n",
       "    }\n",
       "</style>\n",
       "<table border=\"1\" class=\"dataframe\">\n",
       "  <thead>\n",
       "    <tr style=\"text-align: right;\">\n",
       "      <th></th>\n",
       "      <th>TextCleaned</th>\n",
       "      <th>TagsCleaned</th>\n",
       "      <th>Tags</th>\n",
       "    </tr>\n",
       "  </thead>\n",
       "  <tbody>\n",
       "    <tr>\n",
       "      <th>0</th>\n",
       "      <td>javascript access deni object support properti...</td>\n",
       "      <td>jquery</td>\n",
       "      <td>jquery ajaxcontroltoolkit thickbox</td>\n",
       "    </tr>\n",
       "    <tr>\n",
       "      <th>1</th>\n",
       "      <td>suspend weblog datasourc command line wonder a...</td>\n",
       "      <td>database oracle jdbc</td>\n",
       "      <td>database oracle jdbc weblogic</td>\n",
       "    </tr>\n",
       "    <tr>\n",
       "      <th>2</th>\n",
       "      <td>creat gener object base type variabl need crea...</td>\n",
       "      <td>c# .net generics</td>\n",
       "      <td>c# .net generics</td>\n",
       "    </tr>\n",
       "    <tr>\n",
       "      <th>3</th>\n",
       "      <td>test iphon app limit network access way simul ...</td>\n",
       "      <td>iphone testing networking</td>\n",
       "      <td>iphone testing networking</td>\n",
       "    </tr>\n",
       "    <tr>\n",
       "      <th>4</th>\n",
       "      <td>wpf multipl valu properti would like appli sty...</td>\n",
       "      <td>wpf properties</td>\n",
       "      <td>wpf properties</td>\n",
       "    </tr>\n",
       "  </tbody>\n",
       "</table>\n",
       "</div>"
      ],
      "text/plain": [
       "                                         TextCleaned  \\\n",
       "0  javascript access deni object support properti...   \n",
       "1  suspend weblog datasourc command line wonder a...   \n",
       "2  creat gener object base type variabl need crea...   \n",
       "3  test iphon app limit network access way simul ...   \n",
       "4  wpf multipl valu properti would like appli sty...   \n",
       "\n",
       "                 TagsCleaned                                Tags  \n",
       "0                     jquery  jquery ajaxcontroltoolkit thickbox  \n",
       "1       database oracle jdbc       database oracle jdbc weblogic  \n",
       "2           c# .net generics                    c# .net generics  \n",
       "3  iphone testing networking           iphone testing networking  \n",
       "4             wpf properties                      wpf properties  "
      ]
     },
     "execution_count": 10,
     "metadata": {},
     "output_type": "execute_result"
    }
   ],
   "source": [
    "df_test.head()"
   ]
  },
  {
   "cell_type": "markdown",
   "metadata": {},
   "source": [
    "## Méthode de scoring personnelle"
   ]
  },
  {
   "cell_type": "code",
   "execution_count": 11,
   "metadata": {},
   "outputs": [],
   "source": [
    "# Méthode de scoring comparant les tags trouvés aux tags réels, et fonction du nombre de tags réels\n",
    "# Note entre 0 et 1\n",
    "# Plus on est proche de 1 mieux c'est\n",
    "def final_score(clf, X, y_test_mlb, n_tags=5):\n",
    "    \n",
    "    decfun = []\n",
    "    if hasattr(clf, 'decision_function'):\n",
    "        decfun = clf.decision_function(X)\n",
    "    elif hasattr(clf, 'predict_proba'):\n",
    "        decfun = clf.predict_proba(X)\n",
    "    else:\n",
    "        return 0\n",
    "\n",
    "    note = []\n",
    "    # Nombre de tags réels total\n",
    "    nb_tot = y_test_mlb.sum()\n",
    "    # Boucle sur chaque résultat\n",
    "    for i in range(len(y_test_mlb)):\n",
    "        # Si le résultat réel a au moins un tag\n",
    "        nb_res = y_test_mlb[i].sum()\n",
    "        if (nb_res > 0):\n",
    "            # Indice des tags réels\n",
    "            res = np.argsort(i)[ :-(nb_res+1): -1]\n",
    "            # Indice des 5 meilleurs tags prédits\n",
    "            res_pred = np.argsort(decfun[i])[ :-(n_tags+1): -1]\n",
    "            # Rapport entre les deux\n",
    "            note.append(len(np.intersect1d(res, res_pred)))\n",
    "    #print('note =',note)\n",
    "    print('Ma note =',np.round(np.sum(note)/nb_tot, 3))\n"
   ]
  },
  {
   "cell_type": "markdown",
   "metadata": {},
   "source": [
    "## Mode supervisé - Analyse de Title+Body vs Tags"
   ]
  },
  {
   "cell_type": "code",
   "execution_count": 12,
   "metadata": {},
   "outputs": [],
   "source": [
    "#X_train, X_test, y_train, y_test = train_test_split(dataraw['TextCleaned'], dataraw['TagsCleaned'], test_size=0.3)\n",
    "X_train = df_train['TextCleaned']\n",
    "X_test = df_test['TextCleaned']\n",
    "y_train = df_train['TagsCleaned']\n",
    "y_test = df_test['TagsCleaned']"
   ]
  },
  {
   "cell_type": "code",
   "execution_count": 13,
   "metadata": {},
   "outputs": [],
   "source": [
    "# On binarise la target\n",
    "mlb = preprocessing.MultiLabelBinarizer(classes=max_tags)\n",
    "mlb.fit([w.split() for w in y_train])\n",
    "\n",
    "y_train_mlb = mlb.transform([w.split() for w in y_train])\n",
    "y_test_mlb = mlb.transform([w.split() for w in y_test])"
   ]
  },
  {
   "cell_type": "code",
   "execution_count": 14,
   "metadata": {},
   "outputs": [],
   "source": [
    "def test_model(mod):\n",
    "    t0 = time()\n",
    "\n",
    "    pipeline = Pipeline([\n",
    "    ('vect', CountVectorizer()),\n",
    "    ('tfidf', TfidfTransformer()),\n",
    "    #('vect', TfidfVectorizer()),\n",
    "    ('clf', OneVsRestClassifier(mod))])\n",
    "\n",
    "    parameters = {\n",
    "        #'vect__min_df': (5, 10, 15),\n",
    "        'vect__min_df': [5],\n",
    "        #'vect__max_df': (0.5, 0.75, 1.0),\n",
    "        'vect__max_df': [0.5],\n",
    "        #'vect__max_features': (None, 5000, 10000),\n",
    "        'vect__max_features': [None],\n",
    "        #'vect__ngram_range': ((1, 1), (1, 2)),  # unigrams or bigrams\n",
    "        'vect__ngram_range': [(1, 2)],  # unigrams or bigrams\n",
    "        #'tfidf__use_idf': (True, False),\n",
    "        'tfidf__use_idf': [True],\n",
    "        #'tfidf__norm': ['l1', 'l2'],\n",
    "        'tfidf__norm': ['l2'],\n",
    "    }\n",
    "    gs = GridSearchCV(pipeline, parameters, cv=5)\n",
    "    gs.fit(X_train, y_train_mlb)\n",
    "\n",
    "    print(\"Best score: %0.3f\" % gs.best_score_)\n",
    "    print(\"Best parameters set:\")\n",
    "    best_parameters = gs.best_estimator_.get_params()\n",
    "    for param_name in sorted(parameters.keys()):\n",
    "        print(\"\\t%s: %r\" % (param_name, best_parameters[param_name]))\n",
    "\n",
    "    print (\"Accuracy Score: \", accuracy_score(y_test_mlb, gs.best_estimator_.predict(X_test)))\n",
    "\n",
    "    result = get_best_tags(gs.best_estimator_, X_test, mlb)\n",
    "    #print(result[:5])\n",
    "    final_score(gs.best_estimator_, X_test, y_test_mlb)\n",
    "    print(\"done in %0.3fs.\" % (time() - t0))\n",
    "    "
   ]
  },
  {
   "cell_type": "markdown",
   "metadata": {},
   "source": [
    "### LinearSVC - bon score, bonnes perf"
   ]
  },
  {
   "cell_type": "code",
   "execution_count": 15,
   "metadata": {
    "scrolled": true
   },
   "outputs": [
    {
     "name": "stdout",
     "output_type": "stream",
     "text": [
      "Best score: 0.191\n",
      "Best parameters set:\n",
      "\ttfidf__norm: 'l2'\n",
      "\ttfidf__use_idf: True\n",
      "\tvect__max_df: 0.5\n",
      "\tvect__max_features: None\n",
      "\tvect__min_df: 5\n",
      "\tvect__ngram_range: (1, 2)\n",
      "Accuracy Score:  0.2221\n",
      "Ma note = 0.175\n",
      "done in 2268.369s.\n"
     ]
    }
   ],
   "source": [
    "test_model(LinearSVC())"
   ]
  },
  {
   "cell_type": "markdown",
   "metadata": {},
   "source": [
    "### RandomForestClassifier - score moyen, temps moyen"
   ]
  },
  {
   "cell_type": "code",
   "execution_count": 16,
   "metadata": {
    "scrolled": true
   },
   "outputs": [],
   "source": [
    "#test_model(RandomForestClassifier())"
   ]
  },
  {
   "cell_type": "markdown",
   "metadata": {},
   "source": [
    "Best score: 0.046\n",
    "\n",
    "Best parameters set:\n",
    "\n",
    "\ttfidf__norm: 'l2'\n",
    "\ttfidf__use_idf: True\n",
    "\tvect__max_df: 0.5\n",
    "\tvect__max_features: None\n",
    "\tvect__min_df: 5\n",
    "\tvect__ngram_range: (1, 2)\n",
    "Accuracy Score:  0.075\n",
    "\n",
    "../autotag/save/Classifier.pkl saved\n",
    "../autotag/save/MultiLabelBinarizer.pkl saved\n",
    "[['javascript' 'asp.net' '.net' 'css' 'database']\n",
    " ['java' 'linq' 'batch-file' 'vim' 'design-patterns']\n",
    " ['c#' 'interface' 'generics' 'user-interface' 'version-control']\n",
    " ['iphone' 'linux' 'database' 'c#' 'controls']\n",
    " ['wpf' 'perl' 'css' 'graphics' 'file-io']]\n",
    " \n",
    "done in 363.318s."
   ]
  },
  {
   "cell_type": "markdown",
   "metadata": {},
   "source": [
    "### SGDClassifier - score moyen, bonne perf"
   ]
  },
  {
   "cell_type": "code",
   "execution_count": 17,
   "metadata": {
    "scrolled": true
   },
   "outputs": [
    {
     "name": "stdout",
     "output_type": "stream",
     "text": [
      "Best score: 0.033\n",
      "Best parameters set:\n",
      "\ttfidf__norm: 'l2'\n",
      "\ttfidf__use_idf: True\n",
      "\tvect__max_df: 0.5\n",
      "\tvect__max_features: None\n",
      "\tvect__min_df: 5\n",
      "\tvect__ngram_range: (1, 2)\n",
      "Accuracy Score:  0.0784\n",
      "Ma note = 0.467\n",
      "done in 1073.539s.\n"
     ]
    }
   ],
   "source": [
    "from sklearn.linear_model import SGDClassifier\n",
    "test_model(SGDClassifier(loss=\"log\", max_iter=5, tol=None))"
   ]
  },
  {
   "cell_type": "markdown",
   "metadata": {},
   "source": [
    "### AdaBoostClassifier - bon score, temps médiocre"
   ]
  },
  {
   "cell_type": "code",
   "execution_count": 18,
   "metadata": {},
   "outputs": [],
   "source": [
    "#from sklearn.ensemble import AdaBoostClassifier\n",
    "#test_model(AdaBoostClassifier())"
   ]
  },
  {
   "cell_type": "markdown",
   "metadata": {},
   "source": [
    "Best score: 0.137\n",
    "\n",
    "Best parameters set:\n",
    "\n",
    "\ttfidf__norm: 'l2'\n",
    "\ttfidf__use_idf: True\n",
    "\tvect__max_df: 0.5\n",
    "\tvect__max_features: None\n",
    "\tvect__min_df: 5\n",
    "\tvect__ngram_range: (1, 2)\n",
    "Accuracy Score:  0.146\n",
    "\n",
    "../autotag/save/Classifier.pkl saved\n",
    "../autotag/save/MultiLabelBinarizer.pkl saved\n",
    "[['javascript' 'jquery' 'ajax' 'asp.net' 'dynamic']\n",
    " ['dynamic' 'flex3' 'uitableview' 'sharepoint-2007' 'silverlight-2.0']\n",
    " ['c#' 'fluent-nhibernate' 'flex3' 'dynamic' 'uitableview']\n",
    " ['networking' 'flex3' 'uitableview' 'dynamic' 'silverlight-2.0']\n",
    " ['colors' 'wpf' 'sharepoint-2007' 'silverlight-2.0' 'uitableview']]\n",
    " \n",
    "done in 6639.907s."
   ]
  },
  {
   "cell_type": "markdown",
   "metadata": {},
   "source": [
    "### ExtraTreesClassifier - score faible, temps moyen"
   ]
  },
  {
   "cell_type": "code",
   "execution_count": 19,
   "metadata": {},
   "outputs": [],
   "source": [
    "#from sklearn.ensemble import ExtraTreesClassifier\n",
    "#test_model(ExtraTreesClassifier())"
   ]
  },
  {
   "cell_type": "markdown",
   "metadata": {},
   "source": [
    "Best score: 0.045\n",
    "\n",
    "Best parameters set:\n",
    "\n",
    "\ttfidf__norm: 'l2'\n",
    "\ttfidf__use_idf: True\n",
    "\tvect__max_df: 0.5\n",
    "\tvect__max_features: None\n",
    "\tvect__min_df: 5\n",
    "\tvect__ngram_range: (1, 2)\n",
    "Accuracy Score:  0.075\n",
    "\n",
    "../autotag/save/Classifier.pkl saved\n",
    "../autotag/save/MultiLabelBinarizer.pkl saved\n",
    "[['asp.net' 'debugging' 'javascript' 'css' 'wpf']\n",
    " ['java' 'c#' 'java-ee' 'windows-vista' 'crystal-reports']\n",
    " ['c#' '.net' 'nhibernate' 'powershell' 'linq']\n",
    " ['iphone' 'sqlite' 'sockets' 'bash' 'ios']\n",
    " ['wpf' 'c#' 'internationalization' 'wcf' 'localization']]\n",
    " \n",
    "done in 330.661s."
   ]
  },
  {
   "cell_type": "markdown",
   "metadata": {},
   "source": [
    "### GradientBoostingClassifier - score moyen, temps énorme"
   ]
  },
  {
   "cell_type": "code",
   "execution_count": 20,
   "metadata": {},
   "outputs": [],
   "source": [
    "#from sklearn.ensemble import GradientBoostingClassifier\n",
    "#test_model(GradientBoostingClassifier())"
   ]
  },
  {
   "cell_type": "markdown",
   "metadata": {},
   "source": [
    "Best score: 0.102\n",
    "\n",
    "Best parameters set:\n",
    "\n",
    "\ttfidf__norm: 'l2'\n",
    "\ttfidf__use_idf: True\n",
    "\tvect__max_df: 0.5\n",
    "\tvect__max_features: None\n",
    "\tvect__min_df: 5\n",
    "\tvect__ngram_range: (1, 2)\n",
    "Accuracy Score:  0.1\n",
    "\n",
    "../autotag/save/Classifier.pkl saved\n",
    "../autotag/save/MultiLabelBinarizer.pkl saved\n",
    "[['javascript' 'flex3' 'dynamic' 'uitableview' 'silverlight-2.0']\n",
    " ['flex3' 'dynamic' 'uitableview' 'silverlight-2.0' 'fluent-nhibernate']\n",
    " ['interface' 'uitableview' 'flex3' 'sharepoint-2007' 'dynamic']\n",
    " ['ios' 'sharepoint-2007' 'dynamic' 'uitableview' 'silverlight-2.0']\n",
    " ['colors' 'wpf' 'uitableview' 'sharepoint-2007' 'silverlight-2.0']]\n",
    "\n",
    "done in 62652.606s."
   ]
  },
  {
   "cell_type": "markdown",
   "metadata": {},
   "source": [
    "### GaussianProcessClassifier"
   ]
  },
  {
   "cell_type": "code",
   "execution_count": 21,
   "metadata": {},
   "outputs": [],
   "source": [
    "# Ne prend pas de matrice sparse\n",
    "#from sklearn.gaussian_process import GaussianProcessClassifier\n",
    "#test_model(GaussianProcessClassifier())"
   ]
  },
  {
   "cell_type": "markdown",
   "metadata": {},
   "source": [
    "## Vectorisation"
   ]
  },
  {
   "cell_type": "code",
   "execution_count": 22,
   "metadata": {},
   "outputs": [
    {
     "name": "stdout",
     "output_type": "stream",
     "text": [
      "X_train.shape (95081,)\n",
      "y_train_mlb.shape (95081, 400)\n",
      "X_train_tf.shape (95081, 1000)\n",
      "X_test_tf.shape (10000, 1000)\n",
      "X_train_tfidf.shape (95081, 1000)\n",
      "X_test_tfidf.shape (10000, 1000)\n",
      "Vectorizer done in 15.944s.\n"
     ]
    }
   ],
   "source": [
    "# Vectorizer\n",
    "t0 = time()\n",
    "max_df=.8\n",
    "min_df=5\n",
    "#max_features=10000\n",
    "max_features=1000\n",
    "\n",
    "print('X_train.shape', X_train.shape)\n",
    "print('y_train_mlb.shape', y_train_mlb.shape)\n",
    "\n",
    "vect = CountVectorizer(max_df=max_df, min_df=min_df, max_features=max_features, stop_words='english')\n",
    "X_train_tf = vect.fit_transform(X_train)\n",
    "print('X_train_tf.shape', X_train_tf.shape)\n",
    "X_test_tf = vect.transform(X_test)\n",
    "print('X_test_tf.shape', X_test_tf.shape)\n",
    "\n",
    "tfidf_vectorizer = TfidfVectorizer(max_df=max_df, min_df=min_df, max_features=X_train_tf.shape[1])\n",
    "X_train_tfidf = tfidf_vectorizer.fit_transform(X_train)\n",
    "print('X_train_tfidf.shape', X_train_tfidf.shape)\n",
    "X_test_tfidf = tfidf_vectorizer.transform(X_test)\n",
    "print('X_test_tfidf.shape', X_test_tfidf.shape)\n",
    "\n",
    "print(\"Vectorizer done in %0.3fs.\" % (time() - t0))\n"
   ]
  },
  {
   "cell_type": "markdown",
   "metadata": {},
   "source": [
    "## Réduction dimensionnelle"
   ]
  },
  {
   "cell_type": "markdown",
   "metadata": {},
   "source": [
    "### PCA"
   ]
  },
  {
   "cell_type": "code",
   "execution_count": 23,
   "metadata": {},
   "outputs": [
    {
     "name": "stdout",
     "output_type": "stream",
     "text": [
      "PCA done in 47.767s.\n",
      "Nombre de dimensions original : 1000\n",
      "Nombre de dimensions pour 90 % d'explication : 506\n",
      "506  dimensions pour 90 % de variance\n"
     ]
    },
    {
     "data": {
      "image/png": "[encoded data removed]",
      "text/plain": [
       "<Figure size 1152x576 with 1 Axes>"
      ]
     },
     "metadata": {},
     "output_type": "display_data"
    }
   ],
   "source": [
    "testPCA(X_train_tf.toarray());"
   ]
  },
  {
   "cell_type": "code",
   "execution_count": 24,
   "metadata": {},
   "outputs": [
    {
     "name": "stdout",
     "output_type": "stream",
     "text": [
      "PCA done in 38.329s.\n",
      "Nombre de dimensions original : 1000\n",
      "Nombre de dimensions pour 90 % d'explication : 721\n",
      "721  dimensions pour 90 % de variance\n"
     ]
    },
    {
     "data": {
      "image/png": "[encoded data removed]",
      "text/plain": [
       "<Figure size 1152x576 with 1 Axes>"
      ]
     },
     "metadata": {},
     "output_type": "display_data"
    }
   ],
   "source": [
    "testPCA(X_train_tfidf.toarray());"
   ]
  },
  {
   "cell_type": "markdown",
   "metadata": {},
   "source": [
    "### TruncatedSVD"
   ]
  },
  {
   "cell_type": "code",
   "execution_count": 25,
   "metadata": {},
   "outputs": [
    {
     "name": "stdout",
     "output_type": "stream",
     "text": [
      "TSVD done in 99.539s.\n",
      "Nombre de dimensions original : 1000\n",
      "506  dimensions pour 90 % de variance\n"
     ]
    },
    {
     "data": {
      "image/png": "[encoded data removed]",
      "text/plain": [
       "<Figure size 1152x576 with 1 Axes>"
      ]
     },
     "metadata": {},
     "output_type": "display_data"
    }
   ],
   "source": [
    "best_reduc, X_train_tf_red, best_n_components = testTSVD_sparse(X_train_tf)"
   ]
  },
  {
   "cell_type": "code",
   "execution_count": 26,
   "metadata": {
    "scrolled": false
   },
   "outputs": [
    {
     "name": "stdout",
     "output_type": "stream",
     "text": [
      "TSVD done in 122.635s.\n",
      "Nombre de dimensions original : 1000\n",
      "721  dimensions pour 90 % de variance\n"
     ]
    },
    {
     "data": {
      "image/png": "[encoded data removed]",
      "text/plain": [
       "<Figure size 1152x576 with 1 Axes>"
      ]
     },
     "metadata": {},
     "output_type": "display_data"
    }
   ],
   "source": [
    "testTSVD_sparse(X_train_tfidf);"
   ]
  },
  {
   "cell_type": "markdown",
   "metadata": {},
   "source": [
    "### LinearDiscriminantAnalysis"
   ]
  },
  {
   "cell_type": "code",
   "execution_count": 27,
   "metadata": {},
   "outputs": [
    {
     "name": "stdout",
     "output_type": "stream",
     "text": [
      "LDA done in 188.169s.\n",
      "Nombre de dimensions original : 1000\n",
      "734  dimensions pour 90 % de variance\n"
     ]
    },
    {
     "data": {
      "image/png": "[encoded data removed]",
      "text/plain": [
       "<Figure size 1152x576 with 1 Axes>"
      ]
     },
     "metadata": {},
     "output_type": "display_data"
    }
   ],
   "source": [
    "testLDA(X_train_tf.toarray(), y_train);"
   ]
  },
  {
   "cell_type": "code",
   "execution_count": 28,
   "metadata": {},
   "outputs": [
    {
     "name": "stdout",
     "output_type": "stream",
     "text": [
      "LDA done in 176.186s.\n",
      "Nombre de dimensions original : 1000\n",
      "779  dimensions pour 90 % de variance\n"
     ]
    },
    {
     "data": {
      "image/png": "[encoded data removed]",
      "text/plain": [
       "<Figure size 1152x576 with 1 Axes>"
      ]
     },
     "metadata": {},
     "output_type": "display_data"
    }
   ],
   "source": [
    "testLDA(X_train_tfidf.toarray(), y_train);"
   ]
  },
  {
   "cell_type": "markdown",
   "metadata": {},
   "source": [
    "## Exploration LinearSVC"
   ]
  },
  {
   "cell_type": "code",
   "execution_count": 29,
   "metadata": {},
   "outputs": [
    {
     "name": "stdout",
     "output_type": "stream",
     "text": [
      "Best score: 0.185\n",
      "Best parameters set:\n",
      "\ttfidf__norm: 'l2'\n",
      "\ttfidf__use_idf: True\n",
      "\tvect__max_df: 0.5\n",
      "\tvect__max_features: None\n",
      "\tvect__min_df: 5\n",
      "Accuracy Score:  0.2134\n",
      "../autotag/save/Classifier.pkl saved\n",
      "../autotag/save/MultiLabelBinarizer.pkl saved\n",
      "[['javascript' 'ajax' 'jquery' 'asp.net' 'asp.net-ajax']\n",
      " ['asp.net' 'batch-file' 'java' 'sql' 'jdbc']\n",
      " ['c#' 'generics' '.net-2.0' 'c++' 'vb.net']\n",
      " ['iphone' 'cocoa-touch' 'networking' 'testing' 'tdd']\n",
      " ['wpf' 'xaml' 'controls' '.net' 'binding']]\n",
      "Ma note = 0.18\n",
      "done in 845.219s.\n"
     ]
    }
   ],
   "source": [
    "t0 = time()\n",
    "\n",
    "pipeline = Pipeline([\n",
    "('vect', CountVectorizer()),\n",
    "('tfidf', TfidfTransformer()),\n",
    "#('vect', TfidfVectorizer()),\n",
    "('clf', OneVsRestClassifier(LinearSVC()))])\n",
    "\n",
    "parameters = {\n",
    "    #'vect__min_df': (5, 10, 15),\n",
    "    'vect__min_df': [5],\n",
    "    #'vect__max_df': (0.4, 0.5, 0.6, 0.75, 1.0),\n",
    "    'vect__max_df': [0.5],\n",
    "    #'vect__max_features': (None, 5000, 10000),\n",
    "    'vect__max_features': [None],\n",
    "    #'vect__ngram_range': ((1, 1), (1, 2)),  # unigrams or bigrams\n",
    "    #'vect__ngram_range': [(1, 1)],  # unigrams or bigrams\n",
    "    #'tfidf__use_idf': (True, False),\n",
    "    'tfidf__use_idf': [True],\n",
    "    #'tfidf__norm': ['l1', 'l2'],\n",
    "    'tfidf__norm': ['l2'],\n",
    "}\n",
    "gs = GridSearchCV(pipeline, parameters, cv=5)\n",
    "gs.fit(X_train, y_train_mlb)\n",
    "\n",
    "print(\"Best score: %0.3f\" % gs.best_score_)\n",
    "print(\"Best parameters set:\")\n",
    "best_parameters = gs.best_estimator_.get_params()\n",
    "for param_name in sorted(parameters.keys()):\n",
    "    print(\"\\t%s: %r\" % (param_name, best_parameters[param_name]))\n",
    "\n",
    "print (\"Accuracy Score: \", accuracy_score(y_test_mlb, gs.best_estimator_.predict(X_test)))\n",
    "\n",
    "result = get_best_tags(gs.best_estimator_, X_test, mlb, b_save=True, b_Dir=CT_DIR_SAVE)\n",
    "print(result[:5])\n",
    "\n",
    "final_score(gs.best_estimator_, X_test, y_test_mlb)\n",
    "print(\"done in %0.3fs.\" % (time() - t0))\n"
   ]
  },
  {
   "cell_type": "code",
   "execution_count": 30,
   "metadata": {},
   "outputs": [
    {
     "data": {
      "text/plain": [
       "Pipeline(memory=None,\n",
       "     steps=[('vect', CountVectorizer(analyzer='word', binary=False, decode_error='strict',\n",
       "        dtype=<class 'numpy.int64'>, encoding='utf-8', input='content',\n",
       "        lowercase=True, max_df=0.5, max_features=None, min_df=5,\n",
       "        ngram_range=(1, 1), preprocessor=None, stop_words=None,\n",
       "        strip...lti_class='ovr', penalty='l2', random_state=None, tol=0.0001,\n",
       "     verbose=0),\n",
       "          n_jobs=1))])"
      ]
     },
     "execution_count": 30,
     "metadata": {},
     "output_type": "execute_result"
    }
   ],
   "source": [
    "gs.best_estimator_"
   ]
  },
  {
   "cell_type": "code",
   "execution_count": 31,
   "metadata": {
    "scrolled": false
   },
   "outputs": [
    {
     "name": "stdout",
     "output_type": "stream",
     "text": [
      "Accuracy Score:  0.2134\n",
      "Ma note = 0.18\n",
      "done in 1664.720s.\n"
     ]
    },
    {
     "data": {
      "text/plain": [
       "Pipeline(memory=None,\n",
       "     steps=[('clf', OneVsRestClassifier(estimator=LinearSVC(C=1.0, class_weight=None, dual=True, fit_intercept=True,\n",
       "     intercept_scaling=1, loss='squared_hinge', max_iter=1000,\n",
       "     multi_class='ovr', penalty='l2', random_state=None, tol=1e-06,\n",
       "     verbose=0),\n",
       "          n_jobs=1))])"
      ]
     },
     "execution_count": 31,
     "metadata": {},
     "output_type": "execute_result"
    }
   ],
   "source": [
    "tfidf_vectorizer = TfidfVectorizer(max_df=0.5, min_df=5, max_features=None)\n",
    "tfidf_train = tfidf_vectorizer.fit_transform(X_train)\n",
    "tfidf_test = tfidf_vectorizer.transform(X_test)\n",
    "\n",
    "pipeline = Pipeline([('clf', OneVsRestClassifier(LinearSVC()))])\n",
    "parameters = {\n",
    "#    \"clf__estimator__penalty\": ['l1','l2'],\n",
    "#    \"clf__estimator__loss\": ['hinge','squared_hinge'],\n",
    "    \"clf__estimator__loss\": ['squared_hinge'],\n",
    "#    \"clf__estimator__dual\": [True,False],\n",
    "#    \"clf__estimator__tol\": [.000001,.00001,.0001],\n",
    "    \"clf__estimator__tol\": [.000001,.0000001],\n",
    "#    \"clf__estimator__C\": [0.1,1,10,100],    \n",
    "#    \"clf__estimator__max_iter\": [10, 100, 200, 1000],    \n",
    "}\n",
    "\n",
    "model_tunning = GridSearchCV(pipeline, parameters, cv=3, scoring='accuracy')\n",
    "model_tunning.fit(tfidf_train, y_train_mlb)\n",
    "\n",
    "print (\"Accuracy Score: \", accuracy_score(y_test_mlb, model_tunning.best_estimator_.predict(tfidf_test)))\n",
    "final_score(model_tunning.best_estimator_, tfidf_test, y_test_mlb)\n",
    "print(\"done in %0.3fs.\" % (time() - t0))\n",
    "model_tunning.best_estimator_\n"
   ]
  },
  {
   "cell_type": "markdown",
   "metadata": {},
   "source": [
    "### Utilisation de la réduction dimensionnelle"
   ]
  },
  {
   "cell_type": "code",
   "execution_count": 32,
   "metadata": {
    "scrolled": true
   },
   "outputs": [
    {
     "name": "stdout",
     "output_type": "stream",
     "text": [
      "Best score: 0.084\n",
      "Accuracy Score:  0.1175\n",
      "../autotag/save/bestLinearSVCClassifier.pkl saved\n",
      "../autotag/save/bestLinearSVCMultiLabelBinarizer.pkl saved\n",
      "[['javascript' 'ajax' 'jquery' 'internet-explorer-6' 'asp.net-ajax']\n",
      " ['maven-2' 'ruby' 'command-line' 'c#' 'unix']\n",
      " ['generics' 'c#' 'types' 'c' 'database']\n",
      " ['iphone' 'cocoa-touch' 'networking' 'objective-c' 'windows']\n",
      " ['wpf' 'listbox' 'xaml' 'colors' 'controls']]\n",
      "Ma note = 0.183\n",
      "done in 15197.826s.\n"
     ]
    }
   ],
   "source": [
    "t0 = time()\n",
    "\n",
    "# Jeu de test\n",
    "X_test_tf_red = best_reduc.transform(X_test_tf)\n",
    "\n",
    "mod = LinearSVC(penalty='l2', loss='squared_hinge', tol=.000001, C=1, max_iter=200)\n",
    "ovr = OneVsRestClassifier(mod)\n",
    "gs = GridSearchCV(ovr, {}, cv=3)\n",
    "gs.fit(X_train_tf_red, y_train_mlb)\n",
    "\n",
    "print(\"Best score: %0.3f\" % gs.best_score_)\n",
    "print (\"Accuracy Score: \", accuracy_score(y_test_mlb, gs.best_estimator_.predict(X_test_tf_red)))\n",
    "\n",
    "result = get_best_tags(gs.best_estimator_, X_test_tf_red, mlb, b_save=True, b_Dir=CT_DIR_SAVE+'bestLinearSVC')\n",
    "print(result[:5])\n",
    "final_score(gs.best_estimator_, X_test_tf_red, y_test_mlb)\n",
    "print(\"done in %0.3fs.\" % (time() - t0))\n"
   ]
  },
  {
   "cell_type": "code",
   "execution_count": null,
   "metadata": {},
   "outputs": [],
   "source": []
  }
 ],
 "metadata": {
  "celltoolbar": "Raw Cell Format",
  "kernelspec": {
   "display_name": "Python 3",
   "language": "python",
   "name": "python3"
  },
  "language_info": {
   "codemirror_mode": {
    "name": "ipython",
    "version": 3
   },
   "file_extension": ".py",
   "mimetype": "text/x-python",
   "name": "python",
   "nbconvert_exporter": "python",
   "pygments_lexer": "ipython3",
   "version": "3.6.4"
  }
 },
 "nbformat": 4,
 "nbformat_minor": 2
}
