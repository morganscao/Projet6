{
 "cells": [
  {
   "cell_type": "markdown",
   "metadata": {},
   "source": [
    "# P6 - Catégorisez automatiquement des questions"
   ]
  },
  {
   "cell_type": "code",
   "execution_count": 1,
   "metadata": {},
   "outputs": [],
   "source": [
    "### PARAMETRAGE ###\n",
    "ALLFILES = True\n",
    "SAMPLE = False\n",
    "SAVE = True\n",
    "### PARAMETRAGE ###"
   ]
  },
  {
   "cell_type": "markdown",
   "metadata": {},
   "source": [
    "## Importation des librairies"
   ]
  },
  {
   "cell_type": "code",
   "execution_count": 2,
   "metadata": {},
   "outputs": [],
   "source": [
    "# Librairies classiques\n",
    "import pandas as pd\n",
    "import numpy as np\n",
    "import datetime\n",
    "import pickle\n",
    "import os\n",
    "import re\n",
    "from time import time\n",
    "\n",
    "# Librairies graphiques\n",
    "import matplotlib.pyplot as plt\n",
    "import seaborn as sns\n",
    "%matplotlib inline\n",
    "\n",
    "# Librairies de traitement de texte\n",
    "from bs4 import BeautifulSoup\n",
    "import nltk\n",
    "from nltk.corpus import stopwords\n",
    "from sklearn.feature_extraction.text import CountVectorizer\n",
    "from sklearn.feature_extraction.text import TfidfVectorizer\n",
    "from sklearn.feature_extraction.text import TfidfTransformer\n",
    "from sklearn.model_selection import train_test_split, cross_val_score\n",
    "\n",
    "from p6_functions import *\n",
    "CT_DIR_SAVE = '../autotag/save/'"
   ]
  },
  {
   "cell_type": "markdown",
   "metadata": {},
   "source": [
    "## Récupération et visualisation des données"
   ]
  },
  {
   "cell_type": "code",
   "execution_count": 3,
   "metadata": {},
   "outputs": [
    {
     "name": "stdout",
     "output_type": "stream",
     "text": [
      "(41069, 4)\n",
      "reading C:/Work/OpenClassrooms/data/P6/QueryResults300k-02.csv ...\n",
      "shape  (50000, 4)\n",
      "reading C:/Work/OpenClassrooms/data/P6/QueryResults300k-03.csv ...\n",
      "shape  (50000, 4)\n",
      "reading C:/Work/OpenClassrooms/data/P6/QueryResults300k-04.csv ...\n",
      "shape  (50000, 4)\n",
      "(191069, 4)\n"
     ]
    }
   ],
   "source": [
    "# Récupération du fichier\n",
    "CT_DIR_DATA = 'C:/Work/OpenClassrooms/data/P6/'    \n",
    "filename = 'QueryResults300k-'\n",
    "df_csv = pd.read_csv(CT_DIR_DATA + filename + '01.csv')\n",
    "print(df_csv.shape)\n",
    "\n",
    "if ALLFILES:\n",
    "    # Concaténation de toutes les données\n",
    "    for i in range(2, 5):\n",
    "        n = CT_DIR_DATA + filename + '%0*d' % (2, i) + '.csv'\n",
    "        print('reading', n, '...')\n",
    "        f = pd.read_csv(n)\n",
    "        print('shape ', f.shape)\n",
    "        df_csv = df_csv.append(f, ignore_index=True)\n",
    "        # Il faut reindexer si on a concaténé les fichiers \n",
    "        df_csv.index = range(len(df_csv.index))\n",
    "    print(df_csv.shape)"
   ]
  },
  {
   "cell_type": "code",
   "execution_count": 4,
   "metadata": {},
   "outputs": [
    {
     "data": {
      "text/html": [
       "<div>\n",
       "<style scoped>\n",
       "    .dataframe tbody tr th:only-of-type {\n",
       "        vertical-align: middle;\n",
       "    }\n",
       "\n",
       "    .dataframe tbody tr th {\n",
       "        vertical-align: top;\n",
       "    }\n",
       "\n",
       "    .dataframe thead th {\n",
       "        text-align: right;\n",
       "    }\n",
       "</style>\n",
       "<table border=\"1\" class=\"dataframe\">\n",
       "  <thead>\n",
       "    <tr style=\"text-align: right;\">\n",
       "      <th></th>\n",
       "      <th>Id</th>\n",
       "      <th>Body</th>\n",
       "      <th>Title</th>\n",
       "      <th>Tags</th>\n",
       "    </tr>\n",
       "  </thead>\n",
       "  <tbody>\n",
       "    <tr>\n",
       "      <th>0</th>\n",
       "      <td>4</td>\n",
       "      <td>&lt;p&gt;I want to use a track-bar to change a form'...</td>\n",
       "      <td>While applying opacity to a form, should we us...</td>\n",
       "      <td>&lt;c#&gt;&lt;winforms&gt;&lt;type-conversion&gt;&lt;decimal&gt;&lt;opacity&gt;</td>\n",
       "    </tr>\n",
       "    <tr>\n",
       "      <th>1</th>\n",
       "      <td>6</td>\n",
       "      <td>&lt;p&gt;I have an absolutely positioned &lt;code&gt;div&lt;/...</td>\n",
       "      <td>Percentage width child element in absolutely p...</td>\n",
       "      <td>&lt;html&gt;&lt;css&gt;&lt;css3&gt;&lt;internet-explorer-7&gt;</td>\n",
       "    </tr>\n",
       "    <tr>\n",
       "      <th>2</th>\n",
       "      <td>9</td>\n",
       "      <td>&lt;p&gt;Given a &lt;code&gt;DateTime&lt;/code&gt; representing ...</td>\n",
       "      <td>How do I calculate someone's age in C#?</td>\n",
       "      <td>&lt;c#&gt;&lt;.net&gt;&lt;datetime&gt;</td>\n",
       "    </tr>\n",
       "    <tr>\n",
       "      <th>3</th>\n",
       "      <td>11</td>\n",
       "      <td>&lt;p&gt;Given a specific &lt;code&gt;DateTime&lt;/code&gt; valu...</td>\n",
       "      <td>Calculate relative time in C#</td>\n",
       "      <td>&lt;c#&gt;&lt;datetime&gt;&lt;time&gt;&lt;datediff&gt;&lt;relative-time-s...</td>\n",
       "    </tr>\n",
       "    <tr>\n",
       "      <th>4</th>\n",
       "      <td>13</td>\n",
       "      <td>&lt;p&gt;Is there any standard way for a Web Server ...</td>\n",
       "      <td>Determine a User's Timezone</td>\n",
       "      <td>&lt;javascript&gt;&lt;html&gt;&lt;browser&gt;&lt;timezone&gt;&lt;timezone...</td>\n",
       "    </tr>\n",
       "  </tbody>\n",
       "</table>\n",
       "</div>"
      ],
      "text/plain": [
       "   Id                                               Body  \\\n",
       "0   4  <p>I want to use a track-bar to change a form'...   \n",
       "1   6  <p>I have an absolutely positioned <code>div</...   \n",
       "2   9  <p>Given a <code>DateTime</code> representing ...   \n",
       "3  11  <p>Given a specific <code>DateTime</code> valu...   \n",
       "4  13  <p>Is there any standard way for a Web Server ...   \n",
       "\n",
       "                                               Title  \\\n",
       "0  While applying opacity to a form, should we us...   \n",
       "1  Percentage width child element in absolutely p...   \n",
       "2            How do I calculate someone's age in C#?   \n",
       "3                      Calculate relative time in C#   \n",
       "4                        Determine a User's Timezone   \n",
       "\n",
       "                                                Tags  \n",
       "0  <c#><winforms><type-conversion><decimal><opacity>  \n",
       "1             <html><css><css3><internet-explorer-7>  \n",
       "2                               <c#><.net><datetime>  \n",
       "3  <c#><datetime><time><datediff><relative-time-s...  \n",
       "4  <javascript><html><browser><timezone><timezone...  "
      ]
     },
     "execution_count": 4,
     "metadata": {},
     "output_type": "execute_result"
    }
   ],
   "source": [
    "dataraw = df_csv\n",
    "if SAMPLE:\n",
    "    dataraw = df_csv.sample(5000)\n",
    "    dataraw.index = range(len(dataraw.index))\n",
    "\n",
    "dataraw.head()"
   ]
  },
  {
   "cell_type": "code",
   "execution_count": 5,
   "metadata": {},
   "outputs": [
    {
     "name": "stdout",
     "output_type": "stream",
     "text": [
      "<class 'pandas.core.frame.DataFrame'>\n",
      "RangeIndex: 191069 entries, 0 to 191068\n",
      "Data columns (total 4 columns):\n",
      "Id       191069 non-null int64\n",
      "Body     191069 non-null object\n",
      "Title    191069 non-null object\n",
      "Tags     191069 non-null object\n",
      "dtypes: int64(1), object(3)\n",
      "memory usage: 5.8+ MB\n"
     ]
    }
   ],
   "source": [
    "dataraw.info()"
   ]
  },
  {
   "cell_type": "code",
   "execution_count": 6,
   "metadata": {},
   "outputs": [
    {
     "data": {
      "text/html": [
       "<div>\n",
       "<style scoped>\n",
       "    .dataframe tbody tr th:only-of-type {\n",
       "        vertical-align: middle;\n",
       "    }\n",
       "\n",
       "    .dataframe tbody tr th {\n",
       "        vertical-align: top;\n",
       "    }\n",
       "\n",
       "    .dataframe thead th {\n",
       "        text-align: right;\n",
       "    }\n",
       "</style>\n",
       "<table border=\"1\" class=\"dataframe\">\n",
       "  <thead>\n",
       "    <tr style=\"text-align: right;\">\n",
       "      <th></th>\n",
       "      <th>Id</th>\n",
       "    </tr>\n",
       "  </thead>\n",
       "  <tbody>\n",
       "    <tr>\n",
       "      <th>count</th>\n",
       "      <td>1.910690e+05</td>\n",
       "    </tr>\n",
       "    <tr>\n",
       "      <th>mean</th>\n",
       "      <td>6.085126e+05</td>\n",
       "    </tr>\n",
       "    <tr>\n",
       "      <th>std</th>\n",
       "      <td>3.200431e+05</td>\n",
       "    </tr>\n",
       "    <tr>\n",
       "      <th>min</th>\n",
       "      <td>4.000000e+00</td>\n",
       "    </tr>\n",
       "    <tr>\n",
       "      <th>25%</th>\n",
       "      <td>3.390630e+05</td>\n",
       "    </tr>\n",
       "    <tr>\n",
       "      <th>50%</th>\n",
       "      <td>6.230540e+05</td>\n",
       "    </tr>\n",
       "    <tr>\n",
       "      <th>75%</th>\n",
       "      <td>9.108540e+05</td>\n",
       "    </tr>\n",
       "    <tr>\n",
       "      <th>max</th>\n",
       "      <td>1.132508e+06</td>\n",
       "    </tr>\n",
       "  </tbody>\n",
       "</table>\n",
       "</div>"
      ],
      "text/plain": [
       "                 Id\n",
       "count  1.910690e+05\n",
       "mean   6.085126e+05\n",
       "std    3.200431e+05\n",
       "min    4.000000e+00\n",
       "25%    3.390630e+05\n",
       "50%    6.230540e+05\n",
       "75%    9.108540e+05\n",
       "max    1.132508e+06"
      ]
     },
     "execution_count": 6,
     "metadata": {},
     "output_type": "execute_result"
    }
   ],
   "source": [
    "dataraw.describe()"
   ]
  },
  {
   "cell_type": "markdown",
   "metadata": {},
   "source": [
    "## Nettoyage"
   ]
  },
  {
   "cell_type": "code",
   "execution_count": 7,
   "metadata": {},
   "outputs": [],
   "source": [
    "mystops = set(stopwords.words(\"english\"))"
   ]
  },
  {
   "cell_type": "markdown",
   "metadata": {},
   "source": [
    "### Title + Body"
   ]
  },
  {
   "cell_type": "code",
   "execution_count": 8,
   "metadata": {},
   "outputs": [
    {
     "name": "stdout",
     "output_type": "stream",
     "text": [
      "While applying opacity to a form, should we use a decimal or a double value?\n",
      "<p>I want to use a track-bar to change a form's opacity.</p>\n",
      "\n",
      "<p>This is my code:</p>\n",
      "\n",
      "<pre><code>decimal trans = trackBar1.Value / 5000;\n",
      "this.Opacity = trans;\n",
      "</code></pre>\n",
      "\n",
      "<p>When I build the application, it gives the following error:</p>\n",
      "\n",
      "<blockquote>\n",
      "  <p>Cannot implicitly convert type <code>'decimal'</code> to <code>'double'</code>.</p>\n",
      "</blockquote>\n",
      "\n",
      "<p>I tried using <code>trans</code> and <code>double</code> but then the control doesn't work. This code worked fine in a past VB.NET project.</p>\n",
      "\n"
     ]
    }
   ],
   "source": [
    "# Regardons un exemple\n",
    "print(dataraw.Title[0])\n",
    "print(dataraw.Body[0])"
   ]
  },
  {
   "cell_type": "markdown",
   "metadata": {},
   "source": [
    "D'après l'exemple ci-dessus on voit qu'il va falloir :\n",
    "\n",
    "    -enlever les balises HTML\n",
    "\n",
    "    -enlever les caractères spéciaux, mais pas tous car certains sont liés à une information importante comme par exemple le # de c# \n",
    "\n",
    "    -convertir le texte en minuscules\n",
    "\n",
    "    -enlever les stopwords\n",
    "\n",
    "    -extraire la racine des mots\n"
   ]
  },
  {
   "cell_type": "code",
   "execution_count": 9,
   "metadata": {},
   "outputs": [
    {
     "name": "stdout",
     "output_type": "stream",
     "text": [
      "appli opac form use decim doubl valu want use track bar chang form opac code decim tran trackbar1 valu 5000 opac tran build applic give follow error cannot implicitli convert type decim doubl tri use tran doubl control work code work fine past vb net project\n"
     ]
    }
   ],
   "source": [
    "# Exemple, on inclue le titre qui peut contenir des mots împortants\n",
    "print(body_to_words(dataraw.Title[0] + ' ' + dataraw.Body[0]))"
   ]
  },
  {
   "cell_type": "markdown",
   "metadata": {},
   "source": [
    "Voilà qui est mieux, on va maintenant appliquer ce nettoyage et créer une nouvelle feature"
   ]
  },
  {
   "cell_type": "code",
   "execution_count": 10,
   "metadata": {},
   "outputs": [],
   "source": [
    "dataraw['TextCleaned'] = dataraw['Title'].apply(body_to_words) + ' ' + dataraw['Body'].apply(body_to_words)"
   ]
  },
  {
   "cell_type": "markdown",
   "metadata": {},
   "source": [
    "### Tags"
   ]
  },
  {
   "cell_type": "code",
   "execution_count": 11,
   "metadata": {},
   "outputs": [],
   "source": [
    "# Tout d'abord vérifions qu'il n'y a pas d'espace dans les tags\n",
    "for t in dataraw['Tags']:\n",
    "    if ' ' in t:\n",
    "        print(t)"
   ]
  },
  {
   "cell_type": "code",
   "execution_count": 12,
   "metadata": {},
   "outputs": [],
   "source": [
    "dataraw['TagsCleaned'] = dataraw['Tags'].apply(tag_to_words)"
   ]
  },
  {
   "cell_type": "code",
   "execution_count": 13,
   "metadata": {},
   "outputs": [
    {
     "data": {
      "text/plain": [
       "0        c# winforms type-conversion decimal opacity\n",
       "1                  html css css3 internet-explorer-7\n",
       "2                                   c# .net datetime\n",
       "3       c# datetime time datediff relative-time-span\n",
       "4    javascript html browser timezone timezoneoffset\n",
       "Name: TagsCleaned, dtype: object"
      ]
     },
     "execution_count": 13,
     "metadata": {},
     "output_type": "execute_result"
    }
   ],
   "source": [
    "# Regardons ce que ça donne\n",
    "dataraw['TagsCleaned'][:5]"
   ]
  },
  {
   "cell_type": "code",
   "execution_count": 14,
   "metadata": {},
   "outputs": [
    {
     "name": "stdout",
     "output_type": "stream",
     "text": [
      "Il y a 15090 tags différents, voilà les 20 premiers classés alphabétiquement :\n"
     ]
    },
    {
     "data": {
      "text/plain": [
       "['.bash-profile',\n",
       " '.doc',\n",
       " '.emf',\n",
       " '.htaccess',\n",
       " '.htpasswd',\n",
       " '.net',\n",
       " '.net-1.0',\n",
       " '.net-1.1',\n",
       " '.net-2.0',\n",
       " '.net-3.0',\n",
       " '.net-3.5',\n",
       " '.net-4.0',\n",
       " '.net-assembly',\n",
       " '.net-attributes',\n",
       " '.net-client-profile',\n",
       " '.net-core',\n",
       " '.net-framework-source',\n",
       " '.net-framework-version',\n",
       " '.net-internals',\n",
       " '.net-micro-framework']"
      ]
     },
     "execution_count": 14,
     "metadata": {},
     "output_type": "execute_result"
    }
   ],
   "source": [
    "# Combien de tags différents ?\n",
    "\n",
    "all_tags = sorted(set(\" \".join(t for t in dataraw['TagsCleaned']).split(' ')))\n",
    "\n",
    "if '' in all_tags: all_tags.remove('')\n",
    "if ' ' in all_tags: all_tags.remove(' ')\n",
    "\n",
    "print('Il y a', str(len(all_tags)), 'tags différents, voilà les 20 premiers classés alphabétiquement :')\n",
    "all_tags[:20]"
   ]
  },
  {
   "cell_type": "code",
   "execution_count": 15,
   "metadata": {},
   "outputs": [
    {
     "data": {
      "text/plain": [
       "['against',\n",
       " 'any',\n",
       " 'between',\n",
       " 'can',\n",
       " 'd',\n",
       " 'each',\n",
       " 'having',\n",
       " 'll',\n",
       " 'm',\n",
       " 'out',\n",
       " 'this',\n",
       " 'was',\n",
       " 'where']"
      ]
     },
     "execution_count": 15,
     "metadata": {},
     "output_type": "execute_result"
    }
   ],
   "source": [
    "# Regardons s'il y a des stopwords parmi les tags\n",
    "stoptag = []\n",
    "for t in all_tags:\n",
    "    if t in mystops:\n",
    "        stoptag.append(t)\n",
    "stoptag"
   ]
  },
  {
   "cell_type": "code",
   "execution_count": 16,
   "metadata": {},
   "outputs": [
    {
     "name": "stdout",
     "output_type": "stream",
     "text": [
      "<perl><hash><iteration><each>\n",
      "<php><sql><where>\n",
      "<d>\n",
      "<d><popularity>\n",
      "<editor><d>\n",
      "<input><d><tango>\n",
      "<java><constructor><methods><call><this>\n",
      "<serial-port><microcontroller><can><can-bus>\n",
      "<windows><installation><d>\n",
      "<java><c++><c><d>\n",
      "<linux><d><powerpc><tango>\n",
      "<sql><sql-server-2005><foreign-keys><between>\n",
      "<arrays><d>\n",
      "<jquery><radio-button><this>\n",
      "<d>\n",
      "<mysql><full-text-search><against>\n",
      "<perl><hash><each><while-loop>\n",
      "<c#><generics><attributes><constraints><where>\n",
      "<c#><.net><casting><ref><out>\n",
      "<templates><metaprogramming><d>\n",
      "<filtering><mdx><where><dimensions>\n",
      "<oslo><m>\n",
      "<oslo><m>\n",
      "<sql><select><syntax><where><having>\n",
      "<d><tango>\n",
      "<c#><pass-by-reference><this>\n",
      "<javascript><jquery><jquery-selectors><this>\n",
      "<javascript><prototype><this>\n",
      "<mysql><join><where>\n",
      "<.net><modeling><oslo><m>\n",
      "<c#><sql><linq-to-sql><where><clause>\n",
      "<sql><mysql><compare><where>\n",
      "<sql><linq-to-sql><linq-to-entities><having>\n",
      "<printf><d>\n",
      "<mysql><select><where>\n",
      "<sql><oracle><where>\n",
      "<modeling><m>\n",
      "<nhibernate><save><where>\n",
      "<c><floating-point><d><lookup>\n",
      "<c#><memory><this>\n",
      "<sql><conditional><where>\n",
      "<floating-point><d><bit-manipulation>\n",
      "<open-source><d>\n",
      "<vb.net><foreach><for-loop><each>\n",
      "<sql><where>\n",
      "<c++><pointers><this><smart-pointers><shared-ptr>\n",
      "<oslo><mgrammar><m><intellipad>\n",
      "<c#><reference><keyword><out><ref>\n",
      "<ide><debugging><d>\n",
      "<c#><linq><where><clause>\n",
      "<java><automation><network-protocols><can><canopen>\n",
      "<java><can><canopen>\n",
      "<jquery><jquery-selectors><this>\n",
      "<c++><algorithm><sorting><stl><d>\n",
      "<sql><where>\n",
      "<java><serial-port><can><canopen>\n",
      "<java><can><canopen>\n",
      "<can><canopen>\n",
      "<c++><constructor><this>\n",
      "<user-interface><d>\n",
      "<c#><.net><this>\n",
      "<javascript><variables><scope><this>\n",
      "<javascript><class><prototype><this>\n",
      "<c#><out>\n",
      "<hibernate><criteria><having>\n",
      "<memory><memory-management><d><garbage-collection>\n",
      "<sql><mysql><where><having>\n",
      "<can>\n",
      "<multithreading><performance><d><thread-local-storage>\n",
      "<c#><vb.net><events><event-handling><this>\n",
      "<java><this><variable-assignment>\n",
      "<java><methods><this>\n",
      "<jquery><scope><this>\n",
      "<c><performance><d><standard-library>\n",
      "<c#><c#-4.0><covariance><out>\n",
      "<c#><parameters><out>\n",
      "<.net><interop><d>\n",
      "<php><sql><date><where>\n",
      "<arrays><d><dmd>\n",
      "<d><irc>\n",
      "<jquery><css><class><each>\n",
      "<javascript><oop><this>\n",
      "<sql><join><group-by><having>\n",
      "<performance><multithreading><optimization><parallel-processing><d>\n",
      "<wcf><iis><iis-7><msmq><was>\n",
      "<optimization><enums><const><d>\n",
      "<javascript><internet-explorer><firefox><this>\n",
      "<assembly><x86><d><cas>\n",
      "<mobile><embedded><can><canopen><iec61131-3>\n",
      "<null><d><access-violation><non-nullable><null-pointer>\n",
      "<c++><pointers><reference><this><c++-faq>\n",
      "<matrix><d><linear-algebra><mathematical-optimization>\n",
      "<c#><.net><coding-style><this>\n",
      "<c++><null><this>\n",
      "<file-io><concurrency><locking><d><samba>\n",
      "<.net><d>\n",
      "<wcf><was>\n",
      "<javascript><loops><each>\n",
      "<wcf><binding><was>\n",
      "<jquery><multithreading><comments><css-selectors><each>\n",
      "<d><tango><phobos>\n",
      "<user-interface><cross-platform><d>\n",
      "<wcf><architecture><windows-server-2008><com+><was>\n",
      "<arrays><matlab><matrix><multidimensional-array><any>\n",
      "<javascript><jquery><this>\n",
      "<c++><c><memory-management><assembly><d>\n",
      "<c++><wcf><interop><iis-6><was>\n",
      "<d>\n",
      "<sql><sql-server><between>\n",
      "<d>\n",
      "<javascript><jquery><function><bind><each>\n",
      "<templates><sorting><d>\n",
      "<jquery><loops><each>\n",
      "<d><standard-library><tango><phobos>\n",
      "<performance><graphics><d><raytracing>\n",
      "<serialization><metaprogramming><rpc><d>\n",
      "<vb.net><linq><linq-to-sql><where>\n",
      "<sockets><networking><d><d2>\n",
      "<abstraction><d>\n",
      "<python><d><ctypes>\n",
      "<.net><wcf><wcf-binding><was><net.tcp>\n",
      "<subsonic><where><sql>\n",
      "<java><synchronization><class><this><anonymous>\n",
      "<ide><d>\n",
      "<c><graphics><d><wireframe>\n",
      "<dtd><any>\n",
      "<sql><count><query-optimization><having>\n",
      "<mysql><group-by><having>\n",
      "<c#><constructor><this>\n",
      "<c#><parameters><this>\n",
      "<d>\n",
      "<sql><mysql><sha1><where-clause><where>\n",
      "<user-interface><events><gtk><d><gtkd>\n",
      "<d>\n",
      "<php><oop><this>\n",
      "<javascript><jquery><javascript-events><this>\n",
      "<jquery><hyperlink><this>\n",
      "<c++><reference><this>\n",
      "<arrays><d><phobos>\n",
      "<vim><syntax-highlighting><d>\n",
      "<gtk><d><string><gtkd>\n",
      "<sql><sql-server-2005><datetime><between>\n",
      "<c#><visual-studio-2008><.net-3.5><this>\n",
      "<php><mysql><where>\n",
      "<php><javascript><jquery><this>\n",
      "<c++><this>\n",
      "<c#><parameters><ref><out>\n",
      "<javascript><syntax><this>\n",
      "<debugging><d><d2>\n",
      "<tsql><syntax><between>\n",
      "<d><d2><pure-function>\n",
      "<wcf><windows-vista><was>\n",
      "<sql><sql-server><select><between>\n",
      "<c#><linq><date><where><dayofweek>\n",
      "<pdo><can><canopen>\n",
      "<javascript><jquery><this>\n",
      "<parsing><grammar><context-free-grammar><recursive-descent><ll>\n",
      "<javascript><javascript-events><this>\n",
      "<javascript><jquery><this>\n",
      "<memory><paging><d><tango>\n",
      "<c++><refactoring><this>\n",
      "<javascript><jquery><this>\n",
      "<c#><out><ref><moq-3>\n",
      "<mysql><date><between>\n",
      "<javascript><ajax><scope><this>\n",
      "<java><this><anonymous-class>\n",
      "<java><this><decompiling>\n",
      "<asp.net><this>\n",
      "<java><c++><d>\n",
      "<c++><c><gcc><mingw><d>\n",
      "<c++><database><sqlite><serialization><d>\n",
      "<javascript><function><this>\n",
      "<embedded><d>\n",
      "<unicode><utf-8><d><primitive-types><utf>\n",
      "<jquery><function><each><loops>\n",
      "<javascript><scope><this>\n",
      "<javascript><oop><this>\n"
     ]
    }
   ],
   "source": [
    "# Et à quoi ils correspondent \n",
    "for i, row in dataraw.iterrows():\n",
    "    tag_in_stop = False\n",
    "    for t in row['TagsCleaned'].split():\n",
    "        if t in stoptag:\n",
    "            print(row['Tags'])\n",
    "            break"
   ]
  },
  {
   "cell_type": "code",
   "execution_count": 17,
   "metadata": {},
   "outputs": [
    {
     "name": "stdout",
     "output_type": "stream",
     "text": [
      "19397\n",
      "10.1518299672 % du temps, aucun des tags ne provient du texte + titre de l'utilisateur\n"
     ]
    }
   ],
   "source": [
    "# Regardons si le tag se retrouve toujours dans Title+Body\n",
    "no_tag_in_txt = 0\n",
    "for i, row in dataraw.iterrows():\n",
    "    tt = row['TagsCleaned'].split()\n",
    "    tag_in_body = False\n",
    "    for t in tt:\n",
    "        if t in str.lower(row['Body']) or t in str.lower(row['Title']):\n",
    "            tag_in_body = True\n",
    "            break\n",
    "        t = t.replace('-', ' ')\n",
    "        if t in str.lower(row['Body']) or t in str.lower(row['Title']):\n",
    "            tag_in_body = True\n",
    "            break\n",
    "    if not tag_in_body:\n",
    "        no_tag_in_txt += 1\n",
    "        #print(tt)\n",
    "        #if 'java' in tt:\n",
    "        #    print(row['TagsCleaned'] + '\\n' + row['Title'] + '\\n' + row['Body'])\n",
    "        #break\n",
    "print(no_tag_in_txt)\n",
    "print(no_tag_in_txt/dataraw.Tags.count()*100, \"% du temps, aucun des tags ne provient du texte + titre de l'utilisateur\")"
   ]
  },
  {
   "cell_type": "code",
   "execution_count": 18,
   "metadata": {},
   "outputs": [
    {
     "name": "stdout",
     "output_type": "stream",
     "text": [
      "61691\n",
      "32.2872888852 % du temps, tous les tags sont dans le texte\n"
     ]
    }
   ],
   "source": [
    "# Regardons si tous les tags se retrouvent dans Title+Body\n",
    "all_tags_in_txt = 0\n",
    "for i, row in dataraw.iterrows():\n",
    "    tt = row['TagsCleaned'].split()\n",
    "    tags_in_body = True\n",
    "    for t in tt:\n",
    "        if t in str.lower(row['Body']) or t in str.lower(row['Title']):\n",
    "            continue\n",
    "        t = t.replace('-', ' ')\n",
    "        if t in str.lower(row['Body']) or t in str.lower(row['Title']):\n",
    "            continue\n",
    "        tags_in_body = False\n",
    "        break\n",
    "    if tags_in_body:\n",
    "        all_tags_in_txt += 1\n",
    "#    if tags_in_body:\n",
    "#        print(row['TagsCleaned'])\n",
    "#        print(row['Title'])\n",
    "#        print(row['Body'])\n",
    "#        break\n",
    "print(all_tags_in_txt)\n",
    "print(all_tags_in_txt/dataraw.Tags.count()*100, \"% du temps, tous les tags sont dans le texte\")"
   ]
  },
  {
   "cell_type": "markdown",
   "metadata": {},
   "source": [
    "## Word occurrence"
   ]
  },
  {
   "cell_type": "code",
   "execution_count": 19,
   "metadata": {
    "scrolled": false
   },
   "outputs": [
    {
     "name": "stdout",
     "output_type": "stream",
     "text": [
      "Nombre de mots total : 15090 (pour 191069 lignes)\n"
     ]
    },
    {
     "data": {
      "image/png": "[encoded data removed]",
      "text/plain": [
       "<Figure size 1080x576 with 1 Axes>"
      ]
     },
     "metadata": {},
     "output_type": "display_data"
    }
   ],
   "source": [
    "top_tags_sorted = word_occurrence(dataraw.TagsCleaned, top=50)"
   ]
  },
  {
   "cell_type": "code",
   "execution_count": 20,
   "metadata": {
    "scrolled": false
   },
   "outputs": [
    {
     "name": "stdout",
     "output_type": "stream",
     "text": [
      "Nombre de mots total : 302094 (pour 191069 lignes)\n"
     ]
    },
    {
     "data": {
      "image/png": "[encoded data removed]",
      "text/plain": [
       "<Figure size 1080x576 with 1 Axes>"
      ]
     },
     "metadata": {},
     "output_type": "display_data"
    }
   ],
   "source": [
    "top_words_sorted = word_occurrence(dataraw.TextCleaned, top=50)"
   ]
  },
  {
   "cell_type": "code",
   "execution_count": 21,
   "metadata": {},
   "outputs": [],
   "source": [
    "# On peut faire un peu plus de nettoyage, mais le paramètre max_df de la vectorisation devrait s'en charger\n",
    "removelist = [t[0] for t in top_words_sorted[:10] if t[0] not in all_tags]\n",
    "def cleantoplist(value):\n",
    "    words = value.split()\n",
    "    clean_words = [w for w in words if not w in removelist]\n",
    "    return( \" \".join( clean_words ))   "
   ]
  },
  {
   "cell_type": "code",
   "execution_count": 22,
   "metadata": {},
   "outputs": [],
   "source": [
    "#dataraw['TextCleaned'] = dataraw['TextCleaned'].apply(cleantoplist)\n",
    "#toplist = word_occurrence(dataraw.TextCleaned)"
   ]
  },
  {
   "cell_type": "markdown",
   "metadata": {},
   "source": [
    "## Save"
   ]
  },
  {
   "cell_type": "code",
   "execution_count": 23,
   "metadata": {},
   "outputs": [],
   "source": [
    "# Train set et test set\n",
    "\n",
    "df = dataraw[['TextCleaned', 'TagsCleaned']]\n",
    "len_train = int(len(df)*.8)\n",
    "df_train = df[:len_train]\n",
    "df_test = df[len_train:]\n",
    "\n",
    "if SAVE:\n",
    "    df_train.to_csv(CT_DIR_SAVE + \"df_train.csv\", index=False, encoding=\"utf_8\")\n",
    "    df_test.to_csv(CT_DIR_SAVE + \"df_test.csv\", index=False, encoding=\"utf_8\")"
   ]
  },
  {
   "cell_type": "code",
   "execution_count": 24,
   "metadata": {},
   "outputs": [
    {
     "name": "stdout",
     "output_type": "stream",
     "text": [
      "../autotag/save/all_tags.pkl saved\n",
      "../autotag/save/top_tags.pkl saved\n"
     ]
    }
   ],
   "source": [
    "# Tous les tags\n",
    "save_obj(all_tags, CT_DIR_SAVE + 'all_tags')\n",
    "\n",
    "# Liste des tags triés par nombre d'apparition\n",
    "save_obj(top_tags_sorted, CT_DIR_SAVE + 'top_tags')"
   ]
  },
  {
   "cell_type": "code",
   "execution_count": 25,
   "metadata": {},
   "outputs": [
    {
     "data": {
      "text/plain": [
       "[['c#', 26446],\n",
       " ['.net', 16452],\n",
       " ['java', 13844],\n",
       " ['asp.net', 12347],\n",
       " ['javascript', 9584],\n",
       " ['c++', 9410],\n",
       " ['php', 8607],\n",
       " ['python', 6953],\n",
       " ['sql', 6542],\n",
       " ['sql-server', 5972]]"
      ]
     },
     "execution_count": 25,
     "metadata": {},
     "output_type": "execute_result"
    }
   ],
   "source": [
    "# Exemple\n",
    "top_tags_sorted[:10]"
   ]
  },
  {
   "cell_type": "code",
   "execution_count": 26,
   "metadata": {},
   "outputs": [
    {
     "data": {
      "text/plain": [
       "[['mercurial', 161],\n",
       " ['cmd', 161],\n",
       " ['calendar', 161],\n",
       " ['scroll', 161],\n",
       " ['postback', 160],\n",
       " ['usability', 159],\n",
       " ['internet-explorer-8', 159],\n",
       " ['initialization', 159],\n",
       " ['db2', 158],\n",
       " ['report', 158]]"
      ]
     },
     "execution_count": 26,
     "metadata": {},
     "output_type": "execute_result"
    }
   ],
   "source": [
    "# Exemple\n",
    "top_tags_sorted[490:500]"
   ]
  },
  {
   "cell_type": "code",
   "execution_count": null,
   "metadata": {},
   "outputs": [],
   "source": []
  }
 ],
 "metadata": {
  "kernelspec": {
   "display_name": "Python 3",
   "language": "python",
   "name": "python3"
  },
  "language_info": {
   "codemirror_mode": {
    "name": "ipython",
    "version": 3
   },
   "file_extension": ".py",
   "mimetype": "text/x-python",
   "name": "python",
   "nbconvert_exporter": "python",
   "pygments_lexer": "ipython3",
   "version": "3.6.4"
  }
 },
 "nbformat": 4,
 "nbformat_minor": 2
}
