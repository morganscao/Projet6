{
 "cells": [
  {
   "cell_type": "code",
   "execution_count": 1,
   "metadata": {},
   "outputs": [],
   "source": [
    "import datetime\n",
    "import numpy as np\n",
    "import pandas as pd\n",
    "\n",
    "from p6_functions import *\n",
    "CT_DIR_SAVE = 'save/'"
   ]
  },
  {
   "cell_type": "code",
   "execution_count": 2,
   "metadata": {},
   "outputs": [
    {
     "name": "stdout",
     "output_type": "stream",
     "text": [
      "save/ClassifierSVC loaded\n",
      "save/MultiLabelBinarizer loaded\n"
     ]
    }
   ],
   "source": [
    "clf = load_obj(CT_DIR_SAVE + 'ClassifierSVC')\n",
    "mlb = load_obj(CT_DIR_SAVE + 'MultiLabelBinarizer')\n",
    "\n",
    "df = pd.DataFrame(columns=['Body', 'Title'])\n",
    "df.loc[0] = 0"
   ]
  },
  {
   "cell_type": "code",
   "execution_count": 3,
   "metadata": {},
   "outputs": [],
   "source": [
    "df['Body'][0] = ''\n",
    "df['Title'][0] = ''\n",
    "\n",
    "df['TextCleaned'] = df['Title'].apply(body_to_words) + ' ' + df['Body'].apply(body_to_words)\n",
    "\n",
    "ret = get_best_tags(clf, df['TextCleaned'], mlb)"
   ]
  },
  {
   "cell_type": "code",
   "execution_count": 4,
   "metadata": {},
   "outputs": [],
   "source": [
    "df['Body'][0] = 'my question on oracle database'\n",
    "df['Title'][0] = 'my title'\n",
    "\n",
    "df['TextCleaned'] = df['Title'].apply(body_to_words) + ' ' + df['Body'].apply(body_to_words)\n",
    "\n",
    "ret = get_best_tags(clf, df['TextCleaned'], mlb)"
   ]
  },
  {
   "cell_type": "code",
   "execution_count": 5,
   "metadata": {},
   "outputs": [
    {
     "data": {
      "text/plain": [
       "'oracle-database-sql-version-control-bash'"
      ]
     },
     "execution_count": 5,
     "metadata": {},
     "output_type": "execute_result"
    }
   ],
   "source": [
    "'-'.join(t for t in ret[0])"
   ]
  },
  {
   "cell_type": "code",
   "execution_count": null,
   "metadata": {},
   "outputs": [],
   "source": []
  }
 ],
 "metadata": {
  "kernelspec": {
   "display_name": "Python 3",
   "language": "python",
   "name": "python3"
  },
  "language_info": {
   "codemirror_mode": {
    "name": "ipython",
    "version": 3
   },
   "file_extension": ".py",
   "mimetype": "text/x-python",
   "name": "python",
   "nbconvert_exporter": "python",
   "pygments_lexer": "ipython3",
   "version": "3.6.4"
  }
 },
 "nbformat": 4,
 "nbformat_minor": 2
}
