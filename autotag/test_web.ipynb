{
 "cells": [
  {
   "cell_type": "code",
   "execution_count": 3,
   "metadata": {},
   "outputs": [],
   "source": [
    "import datetime\n",
    "import numpy as np\n",
    "import pandas as pd\n",
    "from sklearn.externals import joblib\n",
    "\n",
    "CT_DIR = 'save/'\n",
    "import pickle\n",
    "def load_obj(name):\n",
    "    with open(CT_DIR + name + '.pkl', 'rb') as f:\n",
    "        return pickle.load(f)"
   ]
  },
  {
   "cell_type": "code",
   "execution_count": 12,
   "metadata": {},
   "outputs": [],
   "source": [
    "import nltk\n",
    "from nltk.corpus import stopwords\n",
    "mystops = set(stopwords.words(\"english\"))\n",
    "\n",
    "from bs4 import BeautifulSoup\n",
    "import re\n",
    "# Transformation de la feature 'Body'\n",
    "def body_to_words(value):\n",
    "    #\n",
    "    # 1. Remove HTML\n",
    "    review_text = BeautifulSoup(value, \"lxml\").get_text() \n",
    "    #\n",
    "    # 2. Remove special characters\n",
    "    letters_only = re.sub(\"[^a-zA-Z0-9#]\", \" \", review_text) \n",
    "    #\n",
    "    # 3. Convert to lower case, split into individual words\n",
    "    words = letters_only.lower().split()                             \n",
    "    # \n",
    "    # 4. Remove stop words\n",
    "    meaningful_words = [w for w in words if not w in mystops]\n",
    "    # \n",
    "    # 5. Lemme\n",
    "    porter = nltk.PorterStemmer()\n",
    "    meaningful_words = [porter.stem(w) for w in meaningful_words]\n",
    "    #\n",
    "    # 6. Join the words back into one string separated by space, and return the result.\n",
    "    return( \" \".join( meaningful_words ))   "
   ]
  },
  {
   "cell_type": "code",
   "execution_count": 13,
   "metadata": {},
   "outputs": [],
   "source": [
    "# Méthode pour récupérer les meilleurs tags en fonction du pourcentage de la prédiction\n",
    "def get_best_tags(clf, X, lb, n_tags=5):\n",
    "    decfun = []\n",
    "    if hasattr(clf, 'decision_function'):\n",
    "        decfun = clf.decision_function(X)\n",
    "    elif hasattr(clf, 'predict_proba'):\n",
    "        decfun = clf.predict_proba(X)\n",
    "    else:\n",
    "        return None\n",
    "\n",
    "    best_tags = np.argsort(decfun)[:, :-(n_tags+1): -1]\n",
    "\n",
    "    return lb.classes_[best_tags]"
   ]
  },
  {
   "cell_type": "code",
   "execution_count": 24,
   "metadata": {},
   "outputs": [],
   "source": [
    "clf = load_obj('ClassifierBest')\n",
    "mlb = load_obj('MultiLabelBinarizer')\n",
    "\n",
    "df = pd.DataFrame(columns=['Body', 'Title'])\n",
    "df.loc[0] = 0"
   ]
  },
  {
   "cell_type": "code",
   "execution_count": 27,
   "metadata": {},
   "outputs": [],
   "source": [
    "df['Body'][0] = ''\n",
    "df['Title'][0] = ''\n",
    "\n",
    "df['TextCleaned'] = df['Title'].apply(body_to_words) + ' ' + df['Body'].apply(body_to_words)\n",
    "\n",
    "ret = get_best_tags(clf, df['TextCleaned'], mlb)"
   ]
  },
  {
   "cell_type": "code",
   "execution_count": 26,
   "metadata": {},
   "outputs": [
    {
     "data": {
      "text/plain": [
       "array([['oracle', 'database', 'asp.net', 'language-agnostic', 'deployment']], dtype=object)"
      ]
     },
     "execution_count": 26,
     "metadata": {},
     "output_type": "execute_result"
    }
   ],
   "source": [
    "df['Body'][0] = 'my question on oracle database'\n",
    "df['Title'][0] = 'my title'\n",
    "\n",
    "df['TextCleaned'] = df['Title'].apply(body_to_words) + ' ' + df['Body'].apply(body_to_words)\n",
    "\n",
    "ret = get_best_tags(clf, df['TextCleaned'], mlb)"
   ]
  },
  {
   "cell_type": "code",
   "execution_count": 30,
   "metadata": {},
   "outputs": [
    {
     "data": {
      "text/plain": [
       "'upload-dll-inheritance-dom-class'"
      ]
     },
     "execution_count": 30,
     "metadata": {},
     "output_type": "execute_result"
    }
   ],
   "source": [
    "'-'.join(t for t in ret[0])"
   ]
  }
 ],
 "metadata": {
  "kernelspec": {
   "display_name": "Python 3",
   "language": "python",
   "name": "python3"
  },
  "language_info": {
   "codemirror_mode": {
    "name": "ipython",
    "version": 3
   },
   "file_extension": ".py",
   "mimetype": "text/x-python",
   "name": "python",
   "nbconvert_exporter": "python",
   "pygments_lexer": "ipython3",
   "version": "3.6.4"
  }
 },
 "nbformat": 4,
 "nbformat_minor": 2
}
